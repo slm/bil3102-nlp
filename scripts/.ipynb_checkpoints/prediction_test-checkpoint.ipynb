{
 "cells": [
  {
   "cell_type": "code",
   "execution_count": 3,
   "metadata": {},
   "outputs": [],
   "source": [
    "import pandas as pd\n",
    "import os\n",
    "from sklearn.externals import joblib"
   ]
  },
  {
   "cell_type": "code",
   "execution_count": 6,
   "metadata": {},
   "outputs": [
    {
     "data": {
      "text/plain": [
       "['multinominalnb.mdl',\n",
       " 'gaussian_nb.mdl',\n",
       " 'sgdclassifier.mdl',\n",
       " 'linear_svc.mdl',\n",
       " 'rocchio.mdl']"
      ]
     },
     "execution_count": 6,
     "metadata": {},
     "output_type": "execute_result"
    }
   ],
   "source": [
    "model_files = []\n",
    "for i in os.listdir(\"./\"):\n",
    "    if \".mdl\" in i:\n",
    "        model_files.append(i)\n",
    "model_files"
   ]
  },
  {
   "cell_type": "code",
   "execution_count": 9,
   "metadata": {},
   "outputs": [],
   "source": [
    "models = {}\n",
    "for model_file in model_files:\n",
    "    model = joblib.load(model_file)\n",
    "    models[model_file.split(\".\")[0]]= model"
   ]
  },
  {
   "cell_type": "code",
   "execution_count": 13,
   "metadata": {},
   "outputs": [],
   "source": [
    "data =pd.read_csv(\"../test_data.csv\")\n",
    "test_data = data[data.columns[~data.columns.isin(['Unnamed: 0'])]]"
   ]
  },
  {
   "cell_type": "code",
   "execution_count": null,
   "metadata": {},
   "outputs": [],
   "source": []
  }
 ],
 "metadata": {
  "kernelspec": {
   "display_name": "Python 3",
   "language": "python",
   "name": "python3"
  },
  "language_info": {
   "codemirror_mode": {
    "name": "ipython",
    "version": 3
   },
   "file_extension": ".py",
   "mimetype": "text/x-python",
   "name": "python",
   "nbconvert_exporter": "python",
   "pygments_lexer": "ipython3",
   "version": "3.7.3"
  }
 },
 "nbformat": 4,
 "nbformat_minor": 2
}
