{
 "cells": [
  {
   "cell_type": "code",
   "execution_count": 102,
   "metadata": {},
   "outputs": [
    {
     "data": {
      "text/plain": [
       "'\\nSerialize edilmiş modelleri okuyup test dosyalarını tahmin edebilmek için hazırlanmıştır.\\nSunum esnasında modellerin oluşturulmasını beklememek için oluşturulmuş bir dosyadır.\\n'"
      ]
     },
     "execution_count": 102,
     "metadata": {},
     "output_type": "execute_result"
    }
   ],
   "source": [
    "'''\n",
    "Serialize edilmiş modelleri okuyup test dosyalarını tahmin edebilmek için hazırlanmıştır.\n",
    "Sunum esnasında modellerin oluşturulmasını beklememek için oluşturulmuş bir dosyadır.\n",
    "'''"
   ]
  },
  {
   "cell_type": "code",
   "execution_count": 1,
   "metadata": {},
   "outputs": [],
   "source": [
    "import pandas as pd\n",
    "import os\n",
    "from sklearn.externals import joblib\n",
    "from sklearn.metrics import classification_report\n",
    "\n",
    "def reportDf(report):\n",
    "    report = [x.split(' ') for x in report.split('\\n')]\n",
    "    header = ['Class Name']+[x for x in report[0] if x!='']\n",
    "    values = []\n",
    "    for row in report[1:-5]:\n",
    "        row = [value for value in row if value!='']\n",
    "        if row!=[]:\n",
    "            values.append(row)\n",
    "    df = pd.DataFrame(data = values, columns = header)\n",
    "    del df['support']\n",
    "    avarages = [\"ortalama\"]\n",
    "    for i in range(0,3):\n",
    "        avarages.append(round(pd.to_numeric(df[['precision','recall','f1-score']].iloc[i]).mean(),2))  \n",
    "    df.loc[df.index.max()+1] = avarages\n",
    "    df = df.transpose()\n",
    "    df.columns=list(df.iloc[0])\n",
    "    df = df[1:]\n",
    "    return df"
   ]
  },
  {
   "cell_type": "code",
   "execution_count": 2,
   "metadata": {},
   "outputs": [
    {
     "data": {
      "text/plain": [
       "['multinominalnb.mdl',\n",
       " 'gaussian_nb.mdl',\n",
       " 'sgdclassifier.mdl',\n",
       " 'kneighbors.mdl',\n",
       " 'linear_svc.mdl',\n",
       " 'rocchio.mdl']"
      ]
     },
     "execution_count": 2,
     "metadata": {},
     "output_type": "execute_result"
    }
   ],
   "source": [
    "model_files = []\n",
    "for i in os.listdir(\"./\"):\n",
    "    if \".mdl\" in i:\n",
    "        model_files.append(i)\n",
    "model_files"
   ]
  },
  {
   "cell_type": "code",
   "execution_count": 3,
   "metadata": {},
   "outputs": [],
   "source": [
    "models = {}\n",
    "for model_file in model_files:\n",
    "    model = joblib.load(model_file)\n",
    "    models[model_file.split(\".\")[0]]= model"
   ]
  },
  {
   "cell_type": "code",
   "execution_count": 7,
   "metadata": {},
   "outputs": [],
   "source": [
    "data =pd.read_csv(\"../test_data.csv\")\n",
    "test_data = data[data.columns[~data.columns.isin(['Unnamed: 0','files'])]]"
   ]
  },
  {
   "cell_type": "code",
   "execution_count": 8,
   "metadata": {},
   "outputs": [],
   "source": [
    "test_x = test_data[test_data.columns[~test_data.columns.isin(['class'])]]\n",
    "test_y = test_data['class']\n",
    "target_names = list(set(test_y))"
   ]
  },
  {
   "cell_type": "code",
   "execution_count": 9,
   "metadata": {},
   "outputs": [
    {
     "name": "stdout",
     "output_type": "stream",
     "text": [
      "*************** multinominalnb ***************\n",
      "          ekonomi magazin  spor saglik ortalama\n",
      "precision    0.96    1.00  0.99   1.00     0.98\n",
      "recall       0.99    0.99  0.99   0.99     0.99\n",
      "f1-score     0.98    0.99  0.99   0.99     0.99\n",
      "-----------------------------------------------\n",
      "\n",
      "***************** gaussian_nb *****************\n",
      "          ekonomi magazin  spor saglik ortalama\n",
      "precision    0.85    0.97  0.84   0.89     0.86\n",
      "recall       0.88    0.85  0.85   0.96     0.91\n",
      "f1-score     0.86    0.91  0.84   0.92     0.84\n",
      "-----------------------------------------------\n",
      "\n",
      "**************** sgdclassifier ****************\n",
      "          ekonomi magazin  spor saglik ortalama\n",
      "precision    0.95    0.92  0.94   0.97     0.95\n",
      "recall       0.95    0.96  0.94   0.93     0.94\n",
      "f1-score     0.95    0.94  0.94   0.95     0.94\n",
      "-----------------------------------------------\n",
      "\n",
      "***************** kneighbors *****************\n",
      "          ekonomi magazin  spor saglik ortalama\n",
      "precision    0.96    0.42  1.00   1.00     0.76\n",
      "recall       0.59    1.00  0.35   0.66     0.67\n",
      "f1-score     0.73    0.59  0.52   0.80     0.62\n",
      "-----------------------------------------------\n",
      "\n",
      "***************** linear_svc *****************\n",
      "          ekonomi magazin  spor saglik ortalama\n",
      "precision    1.00    0.95  0.94   0.99     0.97\n",
      "recall       0.94    0.97  1.00   0.96     0.96\n",
      "f1-score     0.97    0.96  0.97   0.97     0.97\n",
      "-----------------------------------------------\n",
      "\n",
      "******************* rocchio *******************\n",
      "          ekonomi magazin  spor saglik ortalama\n",
      "precision    0.95    0.52  0.93   1.00     0.86\n",
      "recall       0.78    0.96  0.66   0.64     0.72\n",
      "f1-score     0.86    0.68  0.77   0.78     0.79\n",
      "-----------------------------------------------\n",
      "\n"
     ]
    }
   ],
   "source": [
    "for model_name,model in models.items():\n",
    "    t_l = round((47-len(model_name))/2)-1\n",
    "    print(\"*\"*t_l,model_name,\"*\"*t_l)\n",
    "    pred = model.predict(test_x)\n",
    "    df = reportDf(classification_report(test_y, pred, target_names=target_names))\n",
    "    print(df)\n",
    "    print(\"-\"*47)\n",
    "    print(\"\")\n"
   ]
  },
  {
   "cell_type": "code",
   "execution_count": 20,
   "metadata": {},
   "outputs": [
    {
     "name": "stdout",
     "output_type": "stream",
     "text": [
      "predict: ['saglik'] \n",
      "real: saglik\n"
     ]
    }
   ],
   "source": [
    "model_name = \"multinominalnb\"\n",
    "position = i\n",
    "predict = models[model_name].predict([list(test_x.iloc[position])])\n",
    "print(\"predict:\",predict,\"\\nreal:\",test_y[position])"
   ]
  }
 ],
 "metadata": {
  "kernelspec": {
   "display_name": "Python 3",
   "language": "python",
   "name": "python3"
  },
  "language_info": {
   "codemirror_mode": {
    "name": "ipython",
    "version": 3
   },
   "file_extension": ".py",
   "mimetype": "text/x-python",
   "name": "python",
   "nbconvert_exporter": "python",
   "pygments_lexer": "ipython3",
   "version": "3.7.3"
  }
 },
 "nbformat": 4,
 "nbformat_minor": 2
}
