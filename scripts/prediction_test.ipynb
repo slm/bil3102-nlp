{
 "cells": [
  {
   "cell_type": "code",
   "execution_count": 102,
   "metadata": {},
   "outputs": [
    {
     "data": {
      "text/plain": [
       "'\\nSerialize edilmiş modelleri okuyup test dosyalarını tahmin edebilmek için hazırlanmıştır.\\nSunum esnasında modellerin oluşturulmasını beklememek için oluşturulmuş bir dosyadır.\\n'"
      ]
     },
     "execution_count": 102,
     "metadata": {},
     "output_type": "execute_result"
    }
   ],
   "source": [
    "'''\n",
    "Serialize edilmiş modelleri okuyup test dosyalarını tahmin edebilmek için hazırlanmıştır.\n",
    "Sunum esnasında modellerin oluşturulmasını beklememek için oluşturulmuş bir dosyadır.\n",
    "'''"
   ]
  },
  {
   "cell_type": "code",
   "execution_count": 95,
   "metadata": {},
   "outputs": [],
   "source": [
    "import pandas as pd\n",
    "import os\n",
    "from sklearn.externals import joblib\n",
    "from sklearn.metrics import classification_report\n",
    "\n",
    "def reportDf(report):\n",
    "    report = [x.split(' ') for x in report.split('\\n')]\n",
    "    header = ['Class Name']+[x for x in report[0] if x!='']\n",
    "    values = []\n",
    "    for row in report[1:-5]:\n",
    "        row = [value for value in row if value!='']\n",
    "        if row!=[]:\n",
    "            values.append(row)\n",
    "    df = pd.DataFrame(data = values, columns = header)\n",
    "    del df['support']\n",
    "    avarages = [\"ortalama\"]\n",
    "    for i in range(0,3):\n",
    "        avarages.append(round(pd.to_numeric(df[['precision','recall','f1-score']].iloc[i]).mean(),2))  \n",
    "    df.loc[df.index.max()+1] = avarages\n",
    "    df = df.transpose()\n",
    "    df.columns=list(df.iloc[0])\n",
    "    df = df[1:]\n",
    "    return df"
   ]
  },
  {
   "cell_type": "code",
   "execution_count": 96,
   "metadata": {},
   "outputs": [
    {
     "data": {
      "text/plain": [
       "['multinominalnb.mdl',\n",
       " 'gaussian_nb.mdl',\n",
       " 'sgdclassifier.mdl',\n",
       " 'kneighbors.mdl',\n",
       " 'linear_svc.mdl',\n",
       " 'rocchio.mdl']"
      ]
     },
     "execution_count": 96,
     "metadata": {},
     "output_type": "execute_result"
    }
   ],
   "source": [
    "model_files = []\n",
    "for i in os.listdir(\"./\"):\n",
    "    if \".mdl\" in i:\n",
    "        model_files.append(i)\n",
    "model_files"
   ]
  },
  {
   "cell_type": "code",
   "execution_count": 97,
   "metadata": {},
   "outputs": [],
   "source": [
    "models = {}\n",
    "for model_file in model_files:\n",
    "    model = joblib.load(model_file)\n",
    "    models[model_file.split(\".\")[0]]= model"
   ]
  },
  {
   "cell_type": "code",
   "execution_count": 98,
   "metadata": {},
   "outputs": [],
   "source": [
    "data =pd.read_csv(\"../test_data.csv\")\n",
    "test_data = data[data.columns[~data.columns.isin(['Unnamed: 0'])]]"
   ]
  },
  {
   "cell_type": "code",
   "execution_count": 99,
   "metadata": {},
   "outputs": [],
   "source": [
    "test_x = test_data[test_data.columns[~test_data.columns.isin(['class'])]]\n",
    "test_y = test_data['class']\n",
    "target_names = list(set(test_y))"
   ]
  },
  {
   "cell_type": "code",
   "execution_count": 100,
   "metadata": {},
   "outputs": [
    {
     "name": "stdout",
     "output_type": "stream",
     "text": [
      "*************** multinominalnb ***************\n",
      "           spor magazin saglik ekonomi ortalama\n",
      "precision  0.94    1.00   0.99    1.00     0.96\n",
      "recall     0.99    0.99   0.96    0.99     0.99\n",
      "f1-score   0.96    0.99   0.97    0.99     0.97\n",
      "-----------------------------------------------\n",
      "\n",
      "***************** gaussian_nb *****************\n",
      "           spor magazin saglik ekonomi ortalama\n",
      "precision  0.83    0.96   0.76    0.86     0.81\n",
      "recall     0.79    0.85   0.81    0.95      0.9\n",
      "f1-score   0.81    0.90   0.79    0.90     0.79\n",
      "-----------------------------------------------\n",
      "\n",
      "**************** sgdclassifier ****************\n",
      "           spor magazin saglik ekonomi ortalama\n",
      "precision  0.94    0.96   0.99    0.97     0.97\n",
      "recall     1.00    0.95   0.95    0.96     0.96\n",
      "f1-score   0.97    0.96   0.97    0.97     0.97\n",
      "-----------------------------------------------\n",
      "\n",
      "***************** kneighbors *****************\n",
      "           spor magazin saglik ekonomi ortalama\n",
      "precision  0.98    0.46   1.00    0.81     0.81\n",
      "recall     0.66    0.94   0.30    0.80     0.67\n",
      "f1-score   0.79    0.62   0.46    0.81     0.59\n",
      "-----------------------------------------------\n",
      "\n",
      "***************** linear_svc *****************\n",
      "           spor magazin saglik ekonomi ortalama\n",
      "precision  0.96    0.96   0.97    0.98     0.97\n",
      "recall     0.97    0.96   0.95    0.99     0.96\n",
      "f1-score   0.97    0.96   0.96    0.98     0.96\n",
      "-----------------------------------------------\n",
      "\n",
      "******************* rocchio *******************\n",
      "           spor magazin saglik ekonomi ortalama\n",
      "precision  0.95    0.52   0.96    1.00     0.85\n",
      "recall     0.76    0.97   0.68    0.62     0.72\n",
      "f1-score   0.85    0.68   0.79    0.77     0.81\n",
      "-----------------------------------------------\n",
      "\n"
     ]
    }
   ],
   "source": [
    "for model_name,model in models.items():\n",
    "    t_l = round((47-len(model_name))/2)-1\n",
    "    print(\"*\"*t_l,model_name,\"*\"*t_l)\n",
    "    pred = model.predict(test_x)\n",
    "    df = reportDf(classification_report(test_y, pred, target_names=target_names))\n",
    "    print(df)\n",
    "    print(\"-\"*47)\n",
    "    print(\"\")\n"
   ]
  },
  {
   "cell_type": "code",
   "execution_count": 101,
   "metadata": {},
   "outputs": [
    {
     "name": "stdout",
     "output_type": "stream",
     "text": [
      "predict: ['ekonomi'] \n",
      "real: ekonomi\n"
     ]
    }
   ],
   "source": [
    "model_name = \"rocchio\"\n",
    "position = 200\n",
    "predict = models[model_name].predict([list(test_x.iloc[position])])\n",
    "print(\"predict:\",predict,\"\\nreal:\",test_y[position])"
   ]
  },
  {
   "cell_type": "code",
   "execution_count": null,
   "metadata": {},
   "outputs": [],
   "source": []
  }
 ],
 "metadata": {
  "kernelspec": {
   "display_name": "Python 3",
   "language": "python",
   "name": "python3"
  },
  "language_info": {
   "codemirror_mode": {
    "name": "ipython",
    "version": 3
   },
   "file_extension": ".py",
   "mimetype": "text/x-python",
   "name": "python",
   "nbconvert_exporter": "python",
   "pygments_lexer": "ipython3",
   "version": "3.7.3"
  }
 },
 "nbformat": 4,
 "nbformat_minor": 2
}
