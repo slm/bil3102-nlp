{
 "cells": [
  {
   "cell_type": "code",
   "execution_count": 42,
   "metadata": {},
   "outputs": [
    {
     "data": {
      "text/plain": [
       "\"\\nÖznitelikleri azaltma betiği\\n\\ntf.csv dosyasını okur.\\nKarşıllıklı fayda bilgi kazanımı algoritmasıyla öznitelikleri 5000'e düşürür.\\nYeni tabloyu reduced_data.csv dosyasına yazar.\\n\\n\""
      ]
     },
     "execution_count": 42,
     "metadata": {},
     "output_type": "execute_result"
    }
   ],
   "source": [
    "'''\n",
    "Öznitelikleri azaltma betiği\n",
    "\n",
    "tf.csv dosyasını okur.\n",
    "Karşıllıklı fayda bilgi kazanımı algoritmasıyla öznitelikleri 5000'e düşürür.\n",
    "Yeni tabloyu reduced_data.csv dosyasına yazar.\n",
    "\n",
    "'''"
   ]
  },
  {
   "cell_type": "code",
   "execution_count": 38,
   "metadata": {},
   "outputs": [],
   "source": [
    "import pandas as pd\n",
    "import numpy as np\n",
    "from sklearn.feature_selection import SelectKBest, mutual_info_classif"
   ]
  },
  {
   "cell_type": "code",
   "execution_count": 43,
   "metadata": {},
   "outputs": [],
   "source": [
    "data = pd.read_csv(\"../tf.csv\")"
   ]
  },
  {
   "cell_type": "code",
   "execution_count": 40,
   "metadata": {},
   "outputs": [],
   "source": [
    "clf  = SelectKBest(mutual_info_classif, k = 5000)\n",
    "x = data[data.columns[~data.columns.isin(['class'])]]\n",
    "y = data[data.columns[data.columns.isin(['class'])]]\n",
    "clf.fit(x,np.ravel(y))\n",
    "outcome = clf.get_support()\n",
    "n_columns = []\n",
    "for i in range(0,len(x.columns)):\n",
    "    if outcome[i]:\n",
    "        n_columns.append(x.columns[i])\n",
    "#print(\"Selected features:%s\" % n_columns)\n",
    "feature_selected = datas[data.columns[data.columns.isin(n_columns)]]\n",
    "feature_selected = feature_selected[feature_selected.columns[~feature_selected.columns.isin(['Unnamed: 0'])]]\n",
    "feature_selected['class'] = y"
   ]
  },
  {
   "cell_type": "code",
   "execution_count": 44,
   "metadata": {},
   "outputs": [],
   "source": [
    "feature_selected.to_csv(\"../reduced_data.csv\")"
   ]
  },
  {
   "cell_type": "code",
   "execution_count": null,
   "metadata": {},
   "outputs": [],
   "source": []
  }
 ],
 "metadata": {
  "kernelspec": {
   "display_name": "Python 3",
   "language": "python",
   "name": "python3"
  },
  "language_info": {
   "codemirror_mode": {
    "name": "ipython",
    "version": 3
   },
   "file_extension": ".py",
   "mimetype": "text/x-python",
   "name": "python",
   "nbconvert_exporter": "python",
   "pygments_lexer": "ipython3",
   "version": "3.7.3"
  }
 },
 "nbformat": 4,
 "nbformat_minor": 2
}
